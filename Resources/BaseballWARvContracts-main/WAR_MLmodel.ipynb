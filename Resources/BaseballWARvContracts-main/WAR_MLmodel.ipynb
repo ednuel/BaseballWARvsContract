{
 "cells": [
  {
   "cell_type": "code",
   "execution_count": 2,
   "id": "improving-memorabilia",
   "metadata": {},
   "outputs": [],
   "source": [
    "import warnings\n",
    "warnings.filterwarnings('ignore')"
   ]
  },
  {
   "cell_type": "code",
   "execution_count": 3,
   "id": "painful-humor",
   "metadata": {},
   "outputs": [],
   "source": [
    "import numpy as np\n",
    "import pandas as pd\n",
    "from pathlib import Path\n",
    "from collections import Counter"
   ]
  },
  {
   "cell_type": "markdown",
   "id": "rotary-queue",
   "metadata": {},
   "source": [
    "#### Reading in the CSV files and cleaning the data set is the first step to the Machine Learning model analysis.\n",
    "\n",
    "Here we will create a list of the column names and a list with the target column. These lists will be used after we load in the csv file in order to keep the columns that are needed in the analysis."
   ]
  },
  {
   "cell_type": "code",
   "execution_count": 7,
   "id": "respective-electricity",
   "metadata": {},
   "outputs": [],
   "source": [
    "columns = [\"Age\", \"Year\", \"Team\", \"Division\", \"League\", \"Percent_Season_Played\", \"Num_DL_Movements\",\n",
    "          \"Percent_Contract_Complete\", \"Player_Salary\", \"Team_Payroll\", \"Team_Win_Percentage\"]\n",
    "\n",
    "target = [\"WAR_PSP\"]\n"
   ]
  },
  {
   "cell_type": "markdown",
   "id": "neutral-lotus",
   "metadata": {},
   "source": [
    "Loading in the data and cleaning it will be the next steps in this analysis. This will allow us to separate the data into testing and training sets. This is a resampling method. "
   ]
  },
  {
   "cell_type": "code",
   "execution_count": 10,
   "id": "configured-insider",
   "metadata": {},
   "outputs": [
    {
     "data": {
      "text/html": [
       "<div>\n",
       "<style scoped>\n",
       "    .dataframe tbody tr th:only-of-type {\n",
       "        vertical-align: middle;\n",
       "    }\n",
       "\n",
       "    .dataframe tbody tr th {\n",
       "        vertical-align: top;\n",
       "    }\n",
       "\n",
       "    .dataframe thead th {\n",
       "        text-align: right;\n",
       "    }\n",
       "</style>\n",
       "<table border=\"1\" class=\"dataframe\">\n",
       "  <thead>\n",
       "    <tr style=\"text-align: right;\">\n",
       "      <th></th>\n",
       "      <th>Name</th>\n",
       "      <th>Age</th>\n",
       "      <th>Year</th>\n",
       "      <th>Team</th>\n",
       "      <th>League</th>\n",
       "      <th>Player_Salary</th>\n",
       "      <th>Percent_Season_Played</th>\n",
       "      <th>WAR_PSP</th>\n",
       "      <th>Num_DL_Movements</th>\n",
       "      <th>Team_Win_Percentage</th>\n",
       "      <th>Team_Payroll</th>\n",
       "      <th>Percent_Contract_Complete</th>\n",
       "    </tr>\n",
       "  </thead>\n",
       "  <tbody>\n",
       "    <tr>\n",
       "      <th>0</th>\n",
       "      <td>Bobby Abreu</td>\n",
       "      <td>26</td>\n",
       "      <td>2000</td>\n",
       "      <td>PHI</td>\n",
       "      <td>NL</td>\n",
       "      <td>4354977</td>\n",
       "      <td>0.994676</td>\n",
       "      <td>6.213081</td>\n",
       "      <td>0</td>\n",
       "      <td>0.401235</td>\n",
       "      <td>6.970093e+07</td>\n",
       "      <td>33.333333</td>\n",
       "    </tr>\n",
       "    <tr>\n",
       "      <th>1</th>\n",
       "      <td>Bobby Abreu</td>\n",
       "      <td>27</td>\n",
       "      <td>2001</td>\n",
       "      <td>PHI</td>\n",
       "      <td>NL</td>\n",
       "      <td>7193330</td>\n",
       "      <td>1.029782</td>\n",
       "      <td>5.039903</td>\n",
       "      <td>0</td>\n",
       "      <td>0.530864</td>\n",
       "      <td>6.014484e+07</td>\n",
       "      <td>66.666667</td>\n",
       "    </tr>\n",
       "    <tr>\n",
       "      <th>2</th>\n",
       "      <td>Bobby Abreu</td>\n",
       "      <td>28</td>\n",
       "      <td>2002</td>\n",
       "      <td>PHI</td>\n",
       "      <td>NL</td>\n",
       "      <td>9000338</td>\n",
       "      <td>1.001989</td>\n",
       "      <td>5.818425</td>\n",
       "      <td>0</td>\n",
       "      <td>0.493827</td>\n",
       "      <td>8.236447e+07</td>\n",
       "      <td>100.000000</td>\n",
       "    </tr>\n",
       "    <tr>\n",
       "      <th>3</th>\n",
       "      <td>Bobby Abreu</td>\n",
       "      <td>29</td>\n",
       "      <td>2003</td>\n",
       "      <td>PHI</td>\n",
       "      <td>NL</td>\n",
       "      <td>12643905</td>\n",
       "      <td>1.016617</td>\n",
       "      <td>5.282226</td>\n",
       "      <td>0</td>\n",
       "      <td>0.530864</td>\n",
       "      <td>9.834458e+07</td>\n",
       "      <td>16.666667</td>\n",
       "    </tr>\n",
       "    <tr>\n",
       "      <th>4</th>\n",
       "      <td>Bobby Abreu</td>\n",
       "      <td>30</td>\n",
       "      <td>2004</td>\n",
       "      <td>PHI</td>\n",
       "      <td>NL</td>\n",
       "      <td>14346025</td>\n",
       "      <td>1.042947</td>\n",
       "      <td>6.289872</td>\n",
       "      <td>0</td>\n",
       "      <td>0.530864</td>\n",
       "      <td>1.261627e+08</td>\n",
       "      <td>33.333333</td>\n",
       "    </tr>\n",
       "  </tbody>\n",
       "</table>\n",
       "</div>"
      ],
      "text/plain": [
       "          Name  Age  Year Team League  Player_Salary  Percent_Season_Played  \\\n",
       "0  Bobby Abreu   26  2000  PHI     NL        4354977               0.994676   \n",
       "1  Bobby Abreu   27  2001  PHI     NL        7193330               1.029782   \n",
       "2  Bobby Abreu   28  2002  PHI     NL        9000338               1.001989   \n",
       "3  Bobby Abreu   29  2003  PHI     NL       12643905               1.016617   \n",
       "4  Bobby Abreu   30  2004  PHI     NL       14346025               1.042947   \n",
       "\n",
       "    WAR_PSP  Num_DL_Movements  Team_Win_Percentage  Team_Payroll  \\\n",
       "0  6.213081                 0             0.401235  6.970093e+07   \n",
       "1  5.039903                 0             0.530864  6.014484e+07   \n",
       "2  5.818425                 0             0.493827  8.236447e+07   \n",
       "3  5.282226                 0             0.530864  9.834458e+07   \n",
       "4  6.289872                 0             0.530864  1.261627e+08   \n",
       "\n",
       "   Percent_Contract_Complete  \n",
       "0                  33.333333  \n",
       "1                  66.666667  \n",
       "2                 100.000000  \n",
       "3                  16.666667  \n",
       "4                  33.333333  "
      ]
     },
     "execution_count": 10,
     "metadata": {},
     "output_type": "execute_result"
    }
   ],
   "source": [
    "MLB_data = Path('Resources/all_players.csv')\n",
    "\n",
    "MLB_df = pd.read_csv(MLB_data)\n",
    "\n",
    "\n",
    "# dropping the null values will help us get rid of any empty data  \n",
    "# this will prevent skewed results - we do this to both rows and columns\n",
    "\n",
    "# dropping null rows\n",
    "MLB_df = MLB_df.dropna()\n",
    "\n",
    "# converting to numerical values\n",
    "\n",
    "# converting target column values to high_WAR and low_WAR based on their values\n",
    "\n",
    "# This will be done using a boundary \n",
    "\n",
    "#x = { 'Current' : 'low_WAR'}\n",
    "#MLB_df = MLB_df.replace(x)\n",
    "\n",
    "# x dict from keys - need to look at the final csv file to \n",
    "\n",
    "# x = dict.fromkeys([])\n",
    "# MLB_df = MLB_df.replace(x)\n",
    "\n",
    "# resetting the index \n",
    "\n",
    "MLB_df.reset_index(inplace=True, drop=True)\n",
    "\n",
    "# display our MLB data frame \n",
    "\n",
    "MLB_df.head()"
   ]
  },
  {
   "cell_type": "markdown",
   "id": "close-battlefield",
   "metadata": {},
   "source": [
    "#### Now we will split our data into training and test sets \n"
   ]
  },
  {
   "cell_type": "code",
   "execution_count": null,
   "id": "cosmetic-present",
   "metadata": {},
   "outputs": [],
   "source": [
    "# Creating feautres\n",
    "\n",
    "X = MLB_df.drop(columns=\"WAR_PSP\")\n",
    "X = pd.get_dummies(X)\n",
    "\n",
    "# Creating our target\n",
    "y = MLB_df.loc[:, target].copy()"
   ]
  },
  {
   "cell_type": "code",
   "execution_count": null,
   "id": "large-exception",
   "metadata": {},
   "outputs": [],
   "source": [
    "X.describe()"
   ]
  },
  {
   "cell_type": "code",
   "execution_count": null,
   "id": "attempted-glucose",
   "metadata": {},
   "outputs": [],
   "source": [
    "# check the balance of our target values \n",
    "y[\"WAR_PSP\"].value_counts()"
   ]
  },
  {
   "cell_type": "code",
   "execution_count": null,
   "id": "elder-compensation",
   "metadata": {},
   "outputs": [],
   "source": [
    "from sklearn.model_selection import train_test_split\n",
    "\n",
    "X_train, X_test, y_train, y_test = train_test_split(X, y, random_state=1)\n"
   ]
  },
  {
   "cell_type": "markdown",
   "id": "northern-block",
   "metadata": {},
   "source": [
    "### Method 1: Oversampling\n",
    "comparing two oversampling algorithms, naive and SMOTE, will lead us to the best performing algorithm. \n",
    "\n",
    "The steps within both oversampling methods are as follows\n",
    "\n",
    "1. View the count of the target classes using Counter from the collections library.\n",
    "    1. Viewing the count of the target classes will allow us to see the official number of target variables that are used in this approach.\n",
    "2. Use the resampled data to train a logistic regression model.\n",
    "    1.  reamspling the training data to a logistic regression model is an attempt to have more accurate representation of points\n",
    "3. Calculate the balanced accuracy score from sklearn.metrics.\n",
    "    1. The balanced accuracy score will inform us on whether or not this method is statistically significant or not - if the accuracy is 95% or higher the model is considered to be an accurate representation. \n",
    "4. Print the confusion matrix from sklearn.metrics.\n",
    "5. Generate a classication report using the imbalanced_classification_report from imbalanced-learn.\n"
   ]
  },
  {
   "cell_type": "code",
   "execution_count": null,
   "id": "fundamental-speaking",
   "metadata": {},
   "outputs": [],
   "source": []
  }
 ],
 "metadata": {
  "kernelspec": {
   "display_name": "mlenv",
   "language": "python",
   "name": "mlenv"
  },
  "language_info": {
   "codemirror_mode": {
    "name": "ipython",
    "version": 3
   },
   "file_extension": ".py",
   "mimetype": "text/x-python",
   "name": "python",
   "nbconvert_exporter": "python",
   "pygments_lexer": "ipython3",
   "version": "3.7.9"
  }
 },
 "nbformat": 4,
 "nbformat_minor": 5
}
